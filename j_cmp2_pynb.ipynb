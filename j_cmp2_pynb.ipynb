{
  "nbformat": 4,
  "nbformat_minor": 0,
  "metadata": {
    "colab": {
      "name": "j-cmp2.pynb",
      "provenance": [],
      "collapsed_sections": []
    },
    "kernelspec": {
      "name": "python3",
      "display_name": "Python 3"
    },
    "language_info": {
      "name": "python"
    }
  },
  "cells": [
    {
      "cell_type": "code",
      "metadata": {
        "id": "4Ab23c4wu1xI"
      },
      "source": [
        "import numpy as np\n",
        "\n",
        "x1=[3.2,3.2,3.7,3.9,4,4,4.1,4.5,4.9,5.1,5.3,5.9,6]\n",
        "y=[54445,64445,57189,63218,55794,56957,57081,61111,67938,66029,83088,81363,93940]\n",
        "yp=[]\n",
        "e=[]\n",
        "m=[1234,1500,1950,2500]\n",
        "c=[1000,1450,1700,2000]\n",
        "\n",
        "def linear(m,c): \n",
        "  sum=0\n",
        "  for i in range(0,len(x1)):\n",
        "    yp.append(m*x1[i]+c)\n",
        "    g=(y[i]-yp[i])**2\n",
        "    sum=sum+g\n",
        "    e.append(g)\n",
        "    print('mean square :',np.mod(sum,len(x1)))\n",
        "    sum=0"
      ],
      "execution_count": 12,
      "outputs": []
    },
    {
      "cell_type": "code",
      "metadata": {
        "colab": {
          "base_uri": "https://localhost:8080/"
        },
        "id": "-H8WkzTju8WD",
        "outputId": "7f45abba-79d5-40ad-d33a-9ff49d924980"
      },
      "source": [
        "for i in range(0,1):\n",
        "  linear(m[i],c[i])"
      ],
      "execution_count": 13,
      "outputs": [
        {
          "output_type": "stream",
          "name": "stdout",
          "text": [
            "mean square : 11.4399995803833\n",
            "mean square : 7.439999580383301\n",
            "mean square : 5.239999771118164\n",
            "mean square : 4.160000324249268\n",
            "mean square : 9\n",
            "mean square : 3\n",
            "mean square : 11.559999942779541\n",
            "mean square : 9.0\n",
            "mean square : 2.9600000381469727\n",
            "mean square : 10.359999656677246\n",
            "mean square : 4.840000152587891\n",
            "mean square : 7.7599992752075195\n",
            "mean square : 3\n"
          ]
        }
      ]
    }
  ]
}