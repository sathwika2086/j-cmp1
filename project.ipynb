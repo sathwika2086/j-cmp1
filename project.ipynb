{
  "nbformat": 4,
  "nbformat_minor": 0,
  "metadata": {
    "colab": {
      "provenance": [],
      "authorship_tag": "ABX9TyOkifkxFGP6wyORO80U1vux",
      "include_colab_link": true
    },
    "kernelspec": {
      "name": "python3",
      "display_name": "Python 3"
    },
    "language_info": {
      "name": "python"
    }
  },
  "cells": [
    {
      "cell_type": "markdown",
      "metadata": {
        "id": "view-in-github",
        "colab_type": "text"
      },
      "source": [
        "<a href=\"https://colab.research.google.com/github/sathwika2086/j-cmp1/blob/main/project.ipynb\" target=\"_parent\"><img src=\"https://colab.research.google.com/assets/colab-badge.svg\" alt=\"Open In Colab\"/></a>"
      ]
    },
    {
      "cell_type": "code",
      "execution_count": null,
      "metadata": {
        "id": "6gwKoRc_nQ1f"
      },
      "outputs": [],
      "source": [
        "import pandas as pd\n",
        "import numpy as np\n",
        "import matplotlib as mpl\n",
        "import seaborn as sns\n",
        "import matplotlib.pyplot as plt\n",
        "df=pd.read_csv('/content/MLDST.csv')"
      ]
    },
    {
      "cell_type": "code",
      "source": [
        "print(df)"
      ],
      "metadata": {
        "colab": {
          "base_uri": "https://localhost:8080/"
        },
        "id": "dFhEPnL9n_Ox",
        "outputId": "b971934c-6c63-4e59-ffa2-6fa3e82d8d91"
      },
      "execution_count": null,
      "outputs": [
        {
          "output_type": "stream",
          "name": "stdout",
          "text": [
            "      Gender  Age  Engineering Studying year Scores(CGPA) Marital status  \\\n",
            "0     Female   18       Degree        year 1         9-10             No   \n",
            "1       Male   21       Degree        year 2         9-10             No   \n",
            "2       Male   19       Degree        Year 1          4-5             No   \n",
            "3     Female   22  Engineering        year 3          3-4            Yes   \n",
            "4       Male   23       Degree        year 4          7-8             No   \n",
            "...      ...  ...          ...           ...          ...            ...   \n",
            "1994    Male   24       Degree        year 1          3-4             No   \n",
            "1995    Male   20  Engineering        year 3          8-9             No   \n",
            "1996  Female   23       Degree        Year 2          1-2            Yes   \n",
            "1997    Male   24       Degree        Year 2          7-8            Yes   \n",
            "1998    Male   20  Engineering        Year 3          6-7            Yes   \n",
            "\n",
            "     Any depression Anxiety Past Trauma Stress Insomnia Agrophobia  \\\n",
            "0               Yes      No         Yes     No      Yes        Yes   \n",
            "1                No     Yes          No     No      Yes         No   \n",
            "2               Yes     Yes         Yes     No      Yes        Yes   \n",
            "3               Yes      No          No     No       No         No   \n",
            "4                No      No          No     No       No         No   \n",
            "...             ...     ...         ...    ...      ...        ...   \n",
            "1994            Yes      No          No    Yes       No         No   \n",
            "1995             No      No          No     No       No         No   \n",
            "1996            Yes      No         Yes    Yes       No         No   \n",
            "1997             No     Yes          No    Yes       No         No   \n",
            "1998            Yes     Yes          No     No      Yes         No   \n",
            "\n",
            "     Abuses/Discriminations Confident levels  Result  \n",
            "0                       Yes              Low       1  \n",
            "1                        No              Low       1  \n",
            "2                        No              Low       0  \n",
            "3                       Yes             Good       0  \n",
            "4                       Yes             High       0  \n",
            "...                     ...              ...     ...  \n",
            "1994                    Yes             High       1  \n",
            "1995                    Yes              Low       0  \n",
            "1996                     No             Good       0  \n",
            "1997                     No             High       0  \n",
            "1998                    Yes             High       1  \n",
            "\n",
            "[1999 rows x 15 columns]\n"
          ]
        }
      ]
    },
    {
      "cell_type": "code",
      "source": [
        "df.dtypes\n"
      ],
      "metadata": {
        "colab": {
          "base_uri": "https://localhost:8080/"
        },
        "id": "soqwXygfoRAa",
        "outputId": "6485ace9-bc1f-48ee-d499-18108932e901"
      },
      "execution_count": null,
      "outputs": [
        {
          "output_type": "execute_result",
          "data": {
            "text/plain": [
              "Gender                    object\n",
              "Age                        int64\n",
              "Engineering               object\n",
              "Studying year             object\n",
              "Scores(CGPA)              object\n",
              "Marital status            object\n",
              "Any depression            object\n",
              "Anxiety                   object\n",
              "Past Trauma               object\n",
              "Stress                    object\n",
              "Insomnia                  object\n",
              "Agrophobia                object\n",
              "Abuses/Discriminations    object\n",
              "Confident levels          object\n",
              "Result                     int64\n",
              "dtype: object"
            ]
          },
          "metadata": {},
          "execution_count": 54
        }
      ]
    },
    {
      "cell_type": "code",
      "source": [
        "df.head()\n"
      ],
      "metadata": {
        "colab": {
          "base_uri": "https://localhost:8080/",
          "height": 287
        },
        "id": "FUxPAD1WNRKn",
        "outputId": "9bf75451-1466-49ba-af26-5a888375a15a"
      },
      "execution_count": null,
      "outputs": [
        {
          "output_type": "execute_result",
          "data": {
            "text/plain": [
              "   Gender  Age  Engineering Studying year Scores(CGPA) Marital status  \\\n",
              "0  Female   18       Degree        year 1         9-10             No   \n",
              "1    Male   21       Degree        year 2         9-10             No   \n",
              "2    Male   19       Degree        Year 1          4-5             No   \n",
              "3  Female   22  Engineering        year 3          3-4            Yes   \n",
              "4    Male   23       Degree        year 4          7-8             No   \n",
              "\n",
              "  Any depression Anxiety Past Trauma Stress Insomnia Agrophobia  \\\n",
              "0            Yes      No         Yes     No      Yes        Yes   \n",
              "1             No     Yes          No     No      Yes         No   \n",
              "2            Yes     Yes         Yes     No      Yes        Yes   \n",
              "3            Yes      No          No     No       No         No   \n",
              "4             No      No          No     No       No         No   \n",
              "\n",
              "  Abuses/Discriminations Confident levels  Result  \n",
              "0                    Yes              Low       1  \n",
              "1                     No              Low       1  \n",
              "2                     No              Low       0  \n",
              "3                    Yes             Good       0  \n",
              "4                    Yes             High       0  "
            ],
            "text/html": [
              "\n",
              "  <div id=\"df-152c58fa-7363-4732-bf62-bea2789d700f\">\n",
              "    <div class=\"colab-df-container\">\n",
              "      <div>\n",
              "<style scoped>\n",
              "    .dataframe tbody tr th:only-of-type {\n",
              "        vertical-align: middle;\n",
              "    }\n",
              "\n",
              "    .dataframe tbody tr th {\n",
              "        vertical-align: top;\n",
              "    }\n",
              "\n",
              "    .dataframe thead th {\n",
              "        text-align: right;\n",
              "    }\n",
              "</style>\n",
              "<table border=\"1\" class=\"dataframe\">\n",
              "  <thead>\n",
              "    <tr style=\"text-align: right;\">\n",
              "      <th></th>\n",
              "      <th>Gender</th>\n",
              "      <th>Age</th>\n",
              "      <th>Engineering</th>\n",
              "      <th>Studying year</th>\n",
              "      <th>Scores(CGPA)</th>\n",
              "      <th>Marital status</th>\n",
              "      <th>Any depression</th>\n",
              "      <th>Anxiety</th>\n",
              "      <th>Past Trauma</th>\n",
              "      <th>Stress</th>\n",
              "      <th>Insomnia</th>\n",
              "      <th>Agrophobia</th>\n",
              "      <th>Abuses/Discriminations</th>\n",
              "      <th>Confident levels</th>\n",
              "      <th>Result</th>\n",
              "    </tr>\n",
              "  </thead>\n",
              "  <tbody>\n",
              "    <tr>\n",
              "      <th>0</th>\n",
              "      <td>Female</td>\n",
              "      <td>18</td>\n",
              "      <td>Degree</td>\n",
              "      <td>year 1</td>\n",
              "      <td>9-10</td>\n",
              "      <td>No</td>\n",
              "      <td>Yes</td>\n",
              "      <td>No</td>\n",
              "      <td>Yes</td>\n",
              "      <td>No</td>\n",
              "      <td>Yes</td>\n",
              "      <td>Yes</td>\n",
              "      <td>Yes</td>\n",
              "      <td>Low</td>\n",
              "      <td>1</td>\n",
              "    </tr>\n",
              "    <tr>\n",
              "      <th>1</th>\n",
              "      <td>Male</td>\n",
              "      <td>21</td>\n",
              "      <td>Degree</td>\n",
              "      <td>year 2</td>\n",
              "      <td>9-10</td>\n",
              "      <td>No</td>\n",
              "      <td>No</td>\n",
              "      <td>Yes</td>\n",
              "      <td>No</td>\n",
              "      <td>No</td>\n",
              "      <td>Yes</td>\n",
              "      <td>No</td>\n",
              "      <td>No</td>\n",
              "      <td>Low</td>\n",
              "      <td>1</td>\n",
              "    </tr>\n",
              "    <tr>\n",
              "      <th>2</th>\n",
              "      <td>Male</td>\n",
              "      <td>19</td>\n",
              "      <td>Degree</td>\n",
              "      <td>Year 1</td>\n",
              "      <td>4-5</td>\n",
              "      <td>No</td>\n",
              "      <td>Yes</td>\n",
              "      <td>Yes</td>\n",
              "      <td>Yes</td>\n",
              "      <td>No</td>\n",
              "      <td>Yes</td>\n",
              "      <td>Yes</td>\n",
              "      <td>No</td>\n",
              "      <td>Low</td>\n",
              "      <td>0</td>\n",
              "    </tr>\n",
              "    <tr>\n",
              "      <th>3</th>\n",
              "      <td>Female</td>\n",
              "      <td>22</td>\n",
              "      <td>Engineering</td>\n",
              "      <td>year 3</td>\n",
              "      <td>3-4</td>\n",
              "      <td>Yes</td>\n",
              "      <td>Yes</td>\n",
              "      <td>No</td>\n",
              "      <td>No</td>\n",
              "      <td>No</td>\n",
              "      <td>No</td>\n",
              "      <td>No</td>\n",
              "      <td>Yes</td>\n",
              "      <td>Good</td>\n",
              "      <td>0</td>\n",
              "    </tr>\n",
              "    <tr>\n",
              "      <th>4</th>\n",
              "      <td>Male</td>\n",
              "      <td>23</td>\n",
              "      <td>Degree</td>\n",
              "      <td>year 4</td>\n",
              "      <td>7-8</td>\n",
              "      <td>No</td>\n",
              "      <td>No</td>\n",
              "      <td>No</td>\n",
              "      <td>No</td>\n",
              "      <td>No</td>\n",
              "      <td>No</td>\n",
              "      <td>No</td>\n",
              "      <td>Yes</td>\n",
              "      <td>High</td>\n",
              "      <td>0</td>\n",
              "    </tr>\n",
              "  </tbody>\n",
              "</table>\n",
              "</div>\n",
              "      <button class=\"colab-df-convert\" onclick=\"convertToInteractive('df-152c58fa-7363-4732-bf62-bea2789d700f')\"\n",
              "              title=\"Convert this dataframe to an interactive table.\"\n",
              "              style=\"display:none;\">\n",
              "        \n",
              "  <svg xmlns=\"http://www.w3.org/2000/svg\" height=\"24px\"viewBox=\"0 0 24 24\"\n",
              "       width=\"24px\">\n",
              "    <path d=\"M0 0h24v24H0V0z\" fill=\"none\"/>\n",
              "    <path d=\"M18.56 5.44l.94 2.06.94-2.06 2.06-.94-2.06-.94-.94-2.06-.94 2.06-2.06.94zm-11 1L8.5 8.5l.94-2.06 2.06-.94-2.06-.94L8.5 2.5l-.94 2.06-2.06.94zm10 10l.94 2.06.94-2.06 2.06-.94-2.06-.94-.94-2.06-.94 2.06-2.06.94z\"/><path d=\"M17.41 7.96l-1.37-1.37c-.4-.4-.92-.59-1.43-.59-.52 0-1.04.2-1.43.59L10.3 9.45l-7.72 7.72c-.78.78-.78 2.05 0 2.83L4 21.41c.39.39.9.59 1.41.59.51 0 1.02-.2 1.41-.59l7.78-7.78 2.81-2.81c.8-.78.8-2.07 0-2.86zM5.41 20L4 18.59l7.72-7.72 1.47 1.35L5.41 20z\"/>\n",
              "  </svg>\n",
              "      </button>\n",
              "      \n",
              "  <style>\n",
              "    .colab-df-container {\n",
              "      display:flex;\n",
              "      flex-wrap:wrap;\n",
              "      gap: 12px;\n",
              "    }\n",
              "\n",
              "    .colab-df-convert {\n",
              "      background-color: #E8F0FE;\n",
              "      border: none;\n",
              "      border-radius: 50%;\n",
              "      cursor: pointer;\n",
              "      display: none;\n",
              "      fill: #1967D2;\n",
              "      height: 32px;\n",
              "      padding: 0 0 0 0;\n",
              "      width: 32px;\n",
              "    }\n",
              "\n",
              "    .colab-df-convert:hover {\n",
              "      background-color: #E2EBFA;\n",
              "      box-shadow: 0px 1px 2px rgba(60, 64, 67, 0.3), 0px 1px 3px 1px rgba(60, 64, 67, 0.15);\n",
              "      fill: #174EA6;\n",
              "    }\n",
              "\n",
              "    [theme=dark] .colab-df-convert {\n",
              "      background-color: #3B4455;\n",
              "      fill: #D2E3FC;\n",
              "    }\n",
              "\n",
              "    [theme=dark] .colab-df-convert:hover {\n",
              "      background-color: #434B5C;\n",
              "      box-shadow: 0px 1px 3px 1px rgba(0, 0, 0, 0.15);\n",
              "      filter: drop-shadow(0px 1px 2px rgba(0, 0, 0, 0.3));\n",
              "      fill: #FFFFFF;\n",
              "    }\n",
              "  </style>\n",
              "\n",
              "      <script>\n",
              "        const buttonEl =\n",
              "          document.querySelector('#df-152c58fa-7363-4732-bf62-bea2789d700f button.colab-df-convert');\n",
              "        buttonEl.style.display =\n",
              "          google.colab.kernel.accessAllowed ? 'block' : 'none';\n",
              "\n",
              "        async function convertToInteractive(key) {\n",
              "          const element = document.querySelector('#df-152c58fa-7363-4732-bf62-bea2789d700f');\n",
              "          const dataTable =\n",
              "            await google.colab.kernel.invokeFunction('convertToInteractive',\n",
              "                                                     [key], {});\n",
              "          if (!dataTable) return;\n",
              "\n",
              "          const docLinkHtml = 'Like what you see? Visit the ' +\n",
              "            '<a target=\"_blank\" href=https://colab.research.google.com/notebooks/data_table.ipynb>data table notebook</a>'\n",
              "            + ' to learn more about interactive tables.';\n",
              "          element.innerHTML = '';\n",
              "          dataTable['output_type'] = 'display_data';\n",
              "          await google.colab.output.renderOutput(dataTable, element);\n",
              "          const docLink = document.createElement('div');\n",
              "          docLink.innerHTML = docLinkHtml;\n",
              "          element.appendChild(docLink);\n",
              "        }\n",
              "      </script>\n",
              "    </div>\n",
              "  </div>\n",
              "  "
            ]
          },
          "metadata": {},
          "execution_count": 55
        }
      ]
    },
    {
      "cell_type": "code",
      "source": [
        "df.shape\n"
      ],
      "metadata": {
        "colab": {
          "base_uri": "https://localhost:8080/"
        },
        "id": "EwHv3uXHNqP8",
        "outputId": "c164f6e3-38a3-4702-a8f7-f940141b7d9d"
      },
      "execution_count": null,
      "outputs": [
        {
          "output_type": "execute_result",
          "data": {
            "text/plain": [
              "(1999, 15)"
            ]
          },
          "metadata": {},
          "execution_count": 56
        }
      ]
    },
    {
      "cell_type": "markdown",
      "source": [],
      "metadata": {
        "id": "EmBlyz4_ihJn"
      }
    },
    {
      "cell_type": "code",
      "source": [
        "df.dtypes"
      ],
      "metadata": {
        "colab": {
          "base_uri": "https://localhost:8080/"
        },
        "id": "XL_utXq7P0b7",
        "outputId": "1824113b-99b9-4495-9b3f-b7a754b648fc"
      },
      "execution_count": null,
      "outputs": [
        {
          "output_type": "execute_result",
          "data": {
            "text/plain": [
              "Gender                    object\n",
              "Age                        int64\n",
              "Engineering               object\n",
              "Studying year             object\n",
              "Scores(CGPA)              object\n",
              "Marital status            object\n",
              "Any depression            object\n",
              "Anxiety                   object\n",
              "Past Trauma               object\n",
              "Stress                    object\n",
              "Insomnia                  object\n",
              "Agrophobia                object\n",
              "Abuses/Discriminations    object\n",
              "Confident levels          object\n",
              "Result                     int64\n",
              "dtype: object"
            ]
          },
          "metadata": {},
          "execution_count": 57
        }
      ]
    },
    {
      "cell_type": "code",
      "source": [
        "df.nunique()"
      ],
      "metadata": {
        "colab": {
          "base_uri": "https://localhost:8080/"
        },
        "id": "Q_2NsmGZQKs_",
        "outputId": "1f80342f-bbc3-40f5-ec9a-87dba4ddc20b"
      },
      "execution_count": null,
      "outputs": [
        {
          "output_type": "execute_result",
          "data": {
            "text/plain": [
              "Gender                     3\n",
              "Age                       10\n",
              "Engineering                2\n",
              "Studying year             10\n",
              "Scores(CGPA)              10\n",
              "Marital status             2\n",
              "Any depression             2\n",
              "Anxiety                    2\n",
              "Past Trauma                2\n",
              "Stress                     2\n",
              "Insomnia                   2\n",
              "Agrophobia                 3\n",
              "Abuses/Discriminations     2\n",
              "Confident levels           4\n",
              "Result                     2\n",
              "dtype: int64"
            ]
          },
          "metadata": {},
          "execution_count": 58
        }
      ]
    },
    {
      "cell_type": "code",
      "source": [
        "df.isnull().sum()"
      ],
      "metadata": {
        "colab": {
          "base_uri": "https://localhost:8080/"
        },
        "id": "WmS_YWyMbCeb",
        "outputId": "14c2ea4c-a41a-423a-da3d-82d92305326b"
      },
      "execution_count": null,
      "outputs": [
        {
          "output_type": "execute_result",
          "data": {
            "text/plain": [
              "Gender                    0\n",
              "Age                       0\n",
              "Engineering               0\n",
              "Studying year             3\n",
              "Scores(CGPA)              0\n",
              "Marital status            0\n",
              "Any depression            0\n",
              "Anxiety                   1\n",
              "Past Trauma               0\n",
              "Stress                    0\n",
              "Insomnia                  3\n",
              "Agrophobia                0\n",
              "Abuses/Discriminations    1\n",
              "Confident levels          0\n",
              "Result                    0\n",
              "dtype: int64"
            ]
          },
          "metadata": {},
          "execution_count": 59
        }
      ]
    },
    {
      "cell_type": "code",
      "source": [
        "df=df.dropna(how='any',axis=0)"
      ],
      "metadata": {
        "id": "gEXtz6vUbk65"
      },
      "execution_count": null,
      "outputs": []
    },
    {
      "cell_type": "code",
      "source": [
        "df.isnull().sum()"
      ],
      "metadata": {
        "colab": {
          "base_uri": "https://localhost:8080/"
        },
        "id": "g2EuBItscBET",
        "outputId": "b437b81b-aa18-444d-f3ed-db792019b705"
      },
      "execution_count": null,
      "outputs": [
        {
          "output_type": "execute_result",
          "data": {
            "text/plain": [
              "Gender                    0\n",
              "Age                       0\n",
              "Engineering               0\n",
              "Studying year             0\n",
              "Scores(CGPA)              0\n",
              "Marital status            0\n",
              "Any depression            0\n",
              "Anxiety                   0\n",
              "Past Trauma               0\n",
              "Stress                    0\n",
              "Insomnia                  0\n",
              "Agrophobia                0\n",
              "Abuses/Discriminations    0\n",
              "Confident levels          0\n",
              "Result                    0\n",
              "dtype: int64"
            ]
          },
          "metadata": {},
          "execution_count": 61
        }
      ]
    },
    {
      "cell_type": "code",
      "source": [
        "#data visualization:-graphical representation"
      ],
      "metadata": {
        "id": "oNNy8GYWcG1o"
      },
      "execution_count": null,
      "outputs": []
    },
    {
      "cell_type": "code",
      "source": [
        "#plt.figure(figsize=(5,5))\n",
        "plt.hist(df['Age'],color='b')\n",
        "plt.title('Histogram for ages')"
      ],
      "metadata": {
        "colab": {
          "base_uri": "https://localhost:8080/",
          "height": 298
        },
        "id": "-HYiCzGQcOf5",
        "outputId": "6d253483-2df8-44dd-ac44-47bae6b60eeb"
      },
      "execution_count": null,
      "outputs": [
        {
          "output_type": "execute_result",
          "data": {
            "text/plain": [
              "Text(0.5, 1.0, 'Histogram for ages')"
            ]
          },
          "metadata": {},
          "execution_count": 63
        },
        {
          "output_type": "display_data",
          "data": {
            "text/plain": [
              "<Figure size 432x288 with 1 Axes>"
            ],
            "image/png": "[encoded data removed]"
          },
          "metadata": {
            "needs_background": "light"
          }
        }
      ]
    },
    {
      "cell_type": "code",
      "source": [
        "df.Gender.value_count().plot.bar"
      ],
      "metadata": {
        "colab": {
          "base_uri": "https://localhost:8080/",
          "height": 287
        },
        "id": "qTWQDC9DdZaF",
        "outputId": "b0d42194-e06e-438d-ca39-f54e5b726e50"
      },
      "execution_count": null,
      "outputs": [
        {
          "output_type": "error",
          "ename": "AttributeError",
          "evalue": "ignored",
          "traceback": [
            "\u001b[0;31m---------------------------------------------------------------------------\u001b[0m",
            "\u001b[0;31mAttributeError\u001b[0m                            Traceback (most recent call last)",
            "\u001b[0;32m<ipython-input-66-4ede616a06cb>\u001b[0m in \u001b[0;36m<module>\u001b[0;34m\u001b[0m\n\u001b[0;32m----> 1\u001b[0;31m \u001b[0mdf\u001b[0m\u001b[0;34m.\u001b[0m\u001b[0mGender\u001b[0m\u001b[0;34m.\u001b[0m\u001b[0mvalue_count\u001b[0m\u001b[0;34m(\u001b[0m\u001b[0;34m)\u001b[0m\u001b[0;34m.\u001b[0m\u001b[0mplot\u001b[0m\u001b[0;34m.\u001b[0m\u001b[0mbar\u001b[0m\u001b[0;34m\u001b[0m\u001b[0;34m\u001b[0m\u001b[0m\n\u001b[0m",
            "\u001b[0;32m/usr/local/lib/python3.7/dist-packages/pandas/core/generic.py\u001b[0m in \u001b[0;36m__getattr__\u001b[0;34m(self, name)\u001b[0m\n\u001b[1;32m   5485\u001b[0m         ):\n\u001b[1;32m   5486\u001b[0m             \u001b[0;32mreturn\u001b[0m \u001b[0mself\u001b[0m\u001b[0;34m[\u001b[0m\u001b[0mname\u001b[0m\u001b[0;34m]\u001b[0m\u001b[0;34m\u001b[0m\u001b[0;34m\u001b[0m\u001b[0m\n\u001b[0;32m-> 5487\u001b[0;31m         \u001b[0;32mreturn\u001b[0m \u001b[0mobject\u001b[0m\u001b[0;34m.\u001b[0m\u001b[0m__getattribute__\u001b[0m\u001b[0;34m(\u001b[0m\u001b[0mself\u001b[0m\u001b[0;34m,\u001b[0m \u001b[0mname\u001b[0m\u001b[0;34m)\u001b[0m\u001b[0;34m\u001b[0m\u001b[0;34m\u001b[0m\u001b[0m\n\u001b[0m\u001b[1;32m   5488\u001b[0m \u001b[0;34m\u001b[0m\u001b[0m\n\u001b[1;32m   5489\u001b[0m     \u001b[0;32mdef\u001b[0m \u001b[0m__setattr__\u001b[0m\u001b[0;34m(\u001b[0m\u001b[0mself\u001b[0m\u001b[0;34m,\u001b[0m \u001b[0mname\u001b[0m\u001b[0;34m:\u001b[0m \u001b[0mstr\u001b[0m\u001b[0;34m,\u001b[0m \u001b[0mvalue\u001b[0m\u001b[0;34m)\u001b[0m \u001b[0;34m->\u001b[0m \u001b[0;32mNone\u001b[0m\u001b[0;34m:\u001b[0m\u001b[0;34m\u001b[0m\u001b[0;34m\u001b[0m\u001b[0m\n",
            "\u001b[0;31mAttributeError\u001b[0m: 'Series' object has no attribute 'value_count'"
          ]
        }
      ]
    },
    {
      "cell_type": "code",
      "source": [
        "df.Age.plot.area()"
      ],
      "metadata": {
        "colab": {
          "base_uri": "https://localhost:8080/",
          "height": 282
        },
        "id": "-Lip1J6veOYX",
        "outputId": "ba700b25-d11f-4bf5-a6d4-9fada89e5014"
      },
      "execution_count": null,
      "outputs": [
        {
          "output_type": "execute_result",
          "data": {
            "text/plain": [
              "<matplotlib.axes._subplots.AxesSubplot at 0x7f35bf645590>"
            ]
          },
          "metadata": {},
          "execution_count": 67
        },
        {
          "output_type": "display_data",
          "data": {
            "text/plain": [
              "<Figure size 432x288 with 1 Axes>"
            ],
            "image/png": "[encoded data removed]"
          },
          "metadata": {
            "needs_background": "light"
          }
        }
      ]
    },
    {
      "cell_type": "code",
      "source": [
        "df.Age.plot.hist()"
      ],
      "metadata": {
        "colab": {
          "base_uri": "https://localhost:8080/",
          "height": 282
        },
        "id": "U44j8-EheWw_",
        "outputId": "b0450cbd-d004-4cde-ad48-9d9c4ff2ef8e"
      },
      "execution_count": null,
      "outputs": [
        {
          "output_type": "execute_result",
          "data": {
            "text/plain": [
              "<matplotlib.axes._subplots.AxesSubplot at 0x7f35bf6592d0>"
            ]
          },
          "metadata": {},
          "execution_count": 69
        },
        {
          "output_type": "display_data",
          "data": {
            "text/plain": [
              "<Figure size 432x288 with 1 Axes>"
            ],
            "image/png": "[encoded data removed]"
          },
          "metadata": {
            "needs_background": "light"
          }
        }
      ]
    },
    {
      "cell_type": "code",
      "source": [
        "df.hist(column=\"Age\",by=\"Result\",bins=10)"
      ],
      "metadata": {
        "colab": {
          "base_uri": "https://localhost:8080/",
          "height": 335
        },
        "id": "N4LhdzIvedzF",
        "outputId": "28cebe58-18c5-43a6-d2b5-07ab870347b7"
      },
      "execution_count": null,
      "outputs": [
        {
          "output_type": "execute_result",
          "data": {
            "text/plain": [
              "array([<matplotlib.axes._subplots.AxesSubplot object at 0x7f35bd785b10>,\n",
              "       <matplotlib.axes._subplots.AxesSubplot object at 0x7f35bd729650>],\n",
              "      dtype=object)"
            ]
          },
          "metadata": {},
          "execution_count": 71
        },
        {
          "output_type": "display_data",
          "data": {
            "text/plain": [
              "<Figure size 432x288 with 2 Axes>"
            ],
            "image/png": "[encoded data removed]"
          },
          "metadata": {
            "needs_background": "light"
          }
        }
      ]
    },
    {
      "cell_type": "code",
      "source": [],
      "metadata": {
        "id": "y_mE8JUTfD6X"
      },
      "execution_count": null,
      "outputs": []
    }
  ]
}